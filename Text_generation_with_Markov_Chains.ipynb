{
  "nbformat": 4,
  "nbformat_minor": 0,
  "metadata": {
    "colab": {
      "provenance": []
    },
    "kernelspec": {
      "name": "python3",
      "display_name": "Python 3"
    },
    "language_info": {
      "name": "python"
    }
  },
  "cells": [
    {
      "cell_type": "code",
      "execution_count": null,
      "metadata": {
        "colab": {
          "base_uri": "https://localhost:8080/"
        },
        "id": "ykea-E0_rHPO",
        "outputId": "dc48313b-d70e-4ec7-e6b8-a8714e16832a"
      },
      "outputs": [
        {
          "output_type": "stream",
          "name": "stdout",
          "text": [
            "{'hell': {'o': 2, 'i': 1}, 'ello': {' ': 2}, 'llo ': {'h': 2}, 'lo h': {'e': 2}, 'o he': {'l': 2}, ' hel': {'l': 2}}\n"
          ]
        }
      ],
      "source": [
        "def generateTable(data,k=4):\n",
        "\n",
        "    T = {}\n",
        "    for i in range(len(data)-k):\n",
        "        X = data[i:i+k]\n",
        "        Y = data[i+k]\n",
        "        if T.get(X) is None:\n",
        "            T[X] = {}\n",
        "            T[X][Y] = 1\n",
        "        else:\n",
        "            if T[X].get(Y) is None:\n",
        "                T[X][Y] = 1\n",
        "            else:\n",
        "                T[X][Y] += 1\n",
        "\n",
        "    return T\n",
        "\n",
        "T = generateTable(\"hello hello helli\")\n",
        "print(T)"
      ]
    },
    {
      "cell_type": "code",
      "source": [
        "def convertFreqIntoProb(T):\n",
        "    for kx in T.keys():\n",
        "        s = float(sum(T[kx].values()))\n",
        "        for k in T[kx].keys():\n",
        "            T[kx][k] = T[kx][k]/s\n",
        "\n",
        "    return T\n",
        "\n",
        "T = convertFreqIntoProb(T)\n",
        "print(T)"
      ],
      "metadata": {
        "colab": {
          "base_uri": "https://localhost:8080/"
        },
        "id": "fnY2iRHOvRva",
        "outputId": "b37839b6-4d86-42b3-cf0e-be1a7c1e01d2"
      },
      "execution_count": null,
      "outputs": [
        {
          "output_type": "stream",
          "name": "stdout",
          "text": [
            "{'hell': {'o': 0.6666666666666666, 'i': 0.3333333333333333}, 'ello': {' ': 1.0}, 'llo ': {'h': 1.0}, 'lo h': {'e': 1.0}, 'o he': {'l': 1.0}, ' hel': {'l': 1.0}}\n"
          ]
        }
      ]
    },
    {
      "cell_type": "code",
      "source": [
        "text_path = \"train.txt\"\n",
        "def load_text(filename):\n",
        "    with open(filename,encoding='utf8') as f:\n",
        "        return f.read().lower()\n",
        "\n",
        "text = load_text(text_path)\n",
        "print('Loaded the dataset.')"
      ],
      "metadata": {
        "colab": {
          "base_uri": "https://localhost:8080/"
        },
        "id": "lRDUM54bvUgh",
        "outputId": "bbffeac5-cab8-4b60-f83e-c0ca220587e5"
      },
      "execution_count": null,
      "outputs": [
        {
          "output_type": "stream",
          "name": "stdout",
          "text": [
            "Loaded the dataset.\n"
          ]
        }
      ]
    },
    {
      "cell_type": "code",
      "source": [
        "def MarkovChain(text,k=4):\n",
        "    T = generateTable(text,k)\n",
        "    T = convertFreqIntoProb(T)\n",
        "    return T\n",
        "\n",
        "model = MarkovChain(text)\n",
        "print('Model Created Successfully!')"
      ],
      "metadata": {
        "colab": {
          "base_uri": "https://localhost:8080/"
        },
        "id": "AcE2jhP3vW0v",
        "outputId": "acb08c23-a258-447f-be9d-b646a0deedb9"
      },
      "execution_count": null,
      "outputs": [
        {
          "output_type": "stream",
          "name": "stdout",
          "text": [
            "Model Created Successfully!\n"
          ]
        }
      ]
    },
    {
      "cell_type": "code",
      "source": [
        "import numpy as np\n",
        "\n",
        "def sample_next(ctx,model,k):\n",
        "\n",
        "    ctx = ctx[-k:]\n",
        "    possible_Chars = list(model[ctx].keys())\n",
        "    possible_values = list(model[ctx].values())\n",
        "    return np.random.choice(possible_Chars,p=possible_values)\n",
        "sample_next(\"commo\",model,4)"
      ],
      "metadata": {
        "colab": {
          "base_uri": "https://localhost:8080/",
          "height": 35
        },
        "id": "3VaOrgkUvY2F",
        "outputId": "727adbba-6fd6-49cf-902a-0a24611ff438"
      },
      "execution_count": null,
      "outputs": [
        {
          "output_type": "execute_result",
          "data": {
            "text/plain": [
              "'n'"
            ],
            "application/vnd.google.colaboratory.intrinsic+json": {
              "type": "string"
            }
          },
          "metadata": {},
          "execution_count": 24
        }
      ]
    },
    {
      "cell_type": "code",
      "source": [
        "def generateText(starting_sent,k=4,maxLen=1000):\n",
        "\n",
        "    sentence = starting_sent\n",
        "    ctx = starting_sent[-k:]\n",
        "\n",
        "    for ix in range(maxLen):\n",
        "        next_prediction = sample_next(ctx,model,k)\n",
        "        sentence += next_prediction\n",
        "        ctx = sentence[-k:]\n",
        "    return sentence\n",
        "\n",
        "print(\"Function Created Successfully!\")\n",
        "\n",
        "text = generateText(\"today\",k=4,maxLen=2000)\n",
        "print(text)"
      ],
      "metadata": {
        "colab": {
          "base_uri": "https://localhost:8080/"
        },
        "id": "0QJ-y-2UvbjN",
        "outputId": "22d7e7f7-3bdc-4b3c-a6b4-b9bb6e231128"
      },
      "execution_count": null,
      "outputs": [
        {
          "output_type": "stream",
          "name": "stdout",
          "text": [
            "Function Created Successfully!\n",
            "today, i will remember to these brave lok sabha and flowers were south, it is going constitutional glory of the are coming this time, who is crossed, women, we are celebrating a constitutional standing in those families of independence.\n",
            "\n",
            "the obc common man.\n",
            "\n",
            "we army of their great men today for the service, inspiring the holy festival of independence. the festival of nilakurinya grow in the festival of sacrifice personnel, forces spent commission passed, deprived, exploited, oppressed? jalianwala bagh giving today for that time, when even states crossing the evidence.\n",
            "\n",
            "these brave service, who have lok sabha has registed to living to social just have lok sabha and kissed? jalianwala bagh gives the tricolor flag on everest.\n",
            "\n",
            "\n",
            "my dear countrymen, once at that corner of oppressed, deprived, deprived, oppressions under to their rights, our country and color flag on their rights by hoistered difficulties, their like our daught to the tricolor flag. but in far-off jungles have freedom, i am very is crossed? jalianwala bagh. how long to living their lovely dear country day and awareness to that time parliament corner of independence in these day and die, the commission.\n",
            "\n",
            "in our help with whom every well and rajya bagh. how order to the hanging the soldiers uttarakhand, himachal, many corners of positive the everest the jubilee prisons under the country. this freedom to backward, back\n",
            "\n",
            "my dear country. those familitary forceful with sense their living the are celebrating us to that time, whom everest economy. in ordinary for the common man.\n",
            "\n",
            "i bow my heart to proud of our jalianwala bagh. how order to be a hundred difficulties, have lost their help with a positive fight to the tricolor, in such a positive the are country. those familitary for them a lot of independence of our soldiers of for their rights by gives, man.\n",
            "\n",
            "i bow my heart to protect that independence at the tricolor of their misery.\n",
            "\n",
            "in ordinary people of our country had betrayed life for the festival order to prote\n"
          ]
        }
      ]
    }
  ]
}